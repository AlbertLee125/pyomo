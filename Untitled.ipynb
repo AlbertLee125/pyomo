{
 "cells": [
  {
   "cell_type": "code",
   "execution_count": 1,
   "id": "2fa90a1a-4ac1-4c46-980c-20b601d908fc",
   "metadata": {},
   "outputs": [],
   "source": [
    "import pyomo.environ as pyo"
   ]
  },
  {
   "cell_type": "code",
   "execution_count": 2,
   "id": "ccd32242-00d5-4939-93c1-93dca289bd42",
   "metadata": {},
   "outputs": [
    {
     "data": {
      "text/plain": [
       "'/Users/shuvashishmondal/Documents/GitHub/pyomo/pyomo/environ/__init__.py'"
      ]
     },
     "execution_count": 2,
     "metadata": {},
     "output_type": "execute_result"
    }
   ],
   "source": [
    "pyo.__file__"
   ]
  },
  {
   "cell_type": "code",
   "execution_count": null,
   "id": "13c65fb0-8e06-44ca-8466-1dc2f139052e",
   "metadata": {},
   "outputs": [],
   "source": []
  }
 ],
 "metadata": {
  "kernelspec": {
   "display_name": "Python 3 (ipykernel)",
   "language": "python",
   "name": "python3"
  },
  "language_info": {
   "codemirror_mode": {
    "name": "ipython",
    "version": 3
   },
   "file_extension": ".py",
   "mimetype": "text/x-python",
   "name": "python",
   "nbconvert_exporter": "python",
   "pygments_lexer": "ipython3",
   "version": "3.13.2"
  }
 },
 "nbformat": 4,
 "nbformat_minor": 5
}
